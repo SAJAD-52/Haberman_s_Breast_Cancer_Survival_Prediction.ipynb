{
  "nbformat": 4,
  "nbformat_minor": 0,
  "metadata": {
    "colab": {
      "provenance": [],
      "authorship_tag": "ABX9TyM9D6XpEAlEuWQLp5PqqN+z",
      "include_colab_link": true
    },
    "kernelspec": {
      "name": "python3",
      "display_name": "Python 3"
    }
  },
  "cells": [
    {
      "cell_type": "markdown",
      "metadata": {
        "id": "view-in-github",
        "colab_type": "text"
      },
      "source": [
        "<a href=\"https://colab.research.google.com/github/SAJAD-52/Haberman_s_Breast_Cancer_Survival_Prediction.ipynb/blob/main/Haberman_s_Breast_Cancer_Survival_Prediction.ipynb\" target=\"_parent\"><img src=\"https://colab.research.google.com/assets/colab-badge.svg\" alt=\"Open In Colab\"/></a>"
      ]
    },
    {
      "cell_type": "code",
      "metadata": {
        "id": "XIhArEgASliQ"
      },
      "source": [
        "import pandas as pd\n",
        "import matplotlib.pyplot as plt\n",
        "from sklearn.metrics import mean_squared_error, mean_absolute_error\n",
        "import numpy as np\n",
        "import math\n",
        "from sklearn import  metrics"
      ],
      "execution_count": null,
      "outputs": []
    },
    {
      "cell_type": "code",
      "metadata": {
        "id": "XjuFR7qpwxsW",
        "colab": {
          "base_uri": "https://localhost:8080/"
        },
        "outputId": "5496dc49-1d0e-49cb-9fb4-3cff7d4411fe"
      },
      "source": [
        "data1 = pd.read_csv(\"haberman.csv\")\n",
        "data1['status'].value_counts()"
      ],
      "execution_count": null,
      "outputs": [
        {
          "output_type": "execute_result",
          "data": {
            "text/plain": [
              "1    224\n",
              "2     81\n",
              "Name: status, dtype: int64"
            ]
          },
          "metadata": {
            "tags": []
          },
          "execution_count": 2
        }
      ]
    },
    {
      "cell_type": "code",
      "metadata": {
        "colab": {
          "base_uri": "https://localhost:8080/",
          "height": 419
        },
        "id": "6uxFbPCDw56l",
        "outputId": "78731ca7-d737-4df1-a628-1d45dbbc9370"
      },
      "source": [
        "data1"
      ],
      "execution_count": null,
      "outputs": [
        {
          "output_type": "execute_result",
          "data": {
            "text/html": [
              "<div>\n",
              "<style scoped>\n",
              "    .dataframe tbody tr th:only-of-type {\n",
              "        vertical-align: middle;\n",
              "    }\n",
              "\n",
              "    .dataframe tbody tr th {\n",
              "        vertical-align: top;\n",
              "    }\n",
              "\n",
              "    .dataframe thead th {\n",
              "        text-align: right;\n",
              "    }\n",
              "</style>\n",
              "<table border=\"1\" class=\"dataframe\">\n",
              "  <thead>\n",
              "    <tr style=\"text-align: right;\">\n",
              "      <th></th>\n",
              "      <th>age</th>\n",
              "      <th>year</th>\n",
              "      <th>nodes</th>\n",
              "      <th>status</th>\n",
              "    </tr>\n",
              "  </thead>\n",
              "  <tbody>\n",
              "    <tr>\n",
              "      <th>0</th>\n",
              "      <td>30</td>\n",
              "      <td>62</td>\n",
              "      <td>3</td>\n",
              "      <td>1</td>\n",
              "    </tr>\n",
              "    <tr>\n",
              "      <th>1</th>\n",
              "      <td>30</td>\n",
              "      <td>65</td>\n",
              "      <td>0</td>\n",
              "      <td>1</td>\n",
              "    </tr>\n",
              "    <tr>\n",
              "      <th>2</th>\n",
              "      <td>31</td>\n",
              "      <td>59</td>\n",
              "      <td>2</td>\n",
              "      <td>1</td>\n",
              "    </tr>\n",
              "    <tr>\n",
              "      <th>3</th>\n",
              "      <td>31</td>\n",
              "      <td>65</td>\n",
              "      <td>4</td>\n",
              "      <td>1</td>\n",
              "    </tr>\n",
              "    <tr>\n",
              "      <th>4</th>\n",
              "      <td>33</td>\n",
              "      <td>58</td>\n",
              "      <td>10</td>\n",
              "      <td>1</td>\n",
              "    </tr>\n",
              "    <tr>\n",
              "      <th>...</th>\n",
              "      <td>...</td>\n",
              "      <td>...</td>\n",
              "      <td>...</td>\n",
              "      <td>...</td>\n",
              "    </tr>\n",
              "    <tr>\n",
              "      <th>300</th>\n",
              "      <td>75</td>\n",
              "      <td>62</td>\n",
              "      <td>1</td>\n",
              "      <td>1</td>\n",
              "    </tr>\n",
              "    <tr>\n",
              "      <th>301</th>\n",
              "      <td>76</td>\n",
              "      <td>67</td>\n",
              "      <td>0</td>\n",
              "      <td>1</td>\n",
              "    </tr>\n",
              "    <tr>\n",
              "      <th>302</th>\n",
              "      <td>77</td>\n",
              "      <td>65</td>\n",
              "      <td>3</td>\n",
              "      <td>1</td>\n",
              "    </tr>\n",
              "    <tr>\n",
              "      <th>303</th>\n",
              "      <td>78</td>\n",
              "      <td>65</td>\n",
              "      <td>1</td>\n",
              "      <td>2</td>\n",
              "    </tr>\n",
              "    <tr>\n",
              "      <th>304</th>\n",
              "      <td>83</td>\n",
              "      <td>58</td>\n",
              "      <td>2</td>\n",
              "      <td>2</td>\n",
              "    </tr>\n",
              "  </tbody>\n",
              "</table>\n",
              "<p>305 rows × 4 columns</p>\n",
              "</div>"
            ],
            "text/plain": [
              "     age  year  nodes  status\n",
              "0     30    62      3       1\n",
              "1     30    65      0       1\n",
              "2     31    59      2       1\n",
              "3     31    65      4       1\n",
              "4     33    58     10       1\n",
              "..   ...   ...    ...     ...\n",
              "300   75    62      1       1\n",
              "301   76    67      0       1\n",
              "302   77    65      3       1\n",
              "303   78    65      1       2\n",
              "304   83    58      2       2\n",
              "\n",
              "[305 rows x 4 columns]"
            ]
          },
          "metadata": {
            "tags": []
          },
          "execution_count": 3
        }
      ]
    },
    {
      "cell_type": "code",
      "metadata": {
        "colab": {
          "base_uri": "https://localhost:8080/"
        },
        "id": "g9Cmts2Tw7DD",
        "outputId": "fd578e68-2f45-4493-a86b-2ec88dc37788"
      },
      "source": [
        "print(data1.head())"
      ],
      "execution_count": null,
      "outputs": [
        {
          "output_type": "stream",
          "text": [
            "   age  year  nodes  status\n",
            "0   30    62      3       1\n",
            "1   30    65      0       1\n",
            "2   31    59      2       1\n",
            "3   31    65      4       1\n",
            "4   33    58     10       1\n"
          ],
          "name": "stdout"
        }
      ]
    },
    {
      "cell_type": "code",
      "metadata": {
        "id": "sFs_akLSw-l7"
      },
      "source": [
        "import seaborn as sns"
      ],
      "execution_count": null,
      "outputs": []
    },
    {
      "cell_type": "code",
      "metadata": {
        "colab": {
          "base_uri": "https://localhost:8080/",
          "height": 296
        },
        "id": "NjKSzq11x0ja",
        "outputId": "02562ad7-4c1a-4df0-d7d1-39a7d850da19"
      },
      "source": [
        "sns.scatterplot(x=\"age\", y=\"nodes\", hue=\"status\", data=data1)"
      ],
      "execution_count": null,
      "outputs": [
        {
          "output_type": "execute_result",
          "data": {
            "text/plain": [
              "<matplotlib.axes._subplots.AxesSubplot at 0x7fadade68110>"
            ]
          },
          "metadata": {
            "tags": []
          },
          "execution_count": 6
        },
        {
          "output_type": "display_data",
          "data": {
            "image/png": "[encoded data removed]",
            "text/plain": [
              "<Figure size 432x288 with 1 Axes>"
            ]
          },
          "metadata": {
            "tags": [],
            "needs_background": "light"
          }
        }
      ]
    },
    {
      "cell_type": "code",
      "metadata": {
        "colab": {
          "base_uri": "https://localhost:8080/",
          "height": 350
        },
        "id": "Rmfy_hGZy5lU",
        "outputId": "7c624b0a-15ae-40db-c67c-3b040be6212e"
      },
      "source": [
        "sns.countplot(data1['status'])\n"
      ],
      "execution_count": null,
      "outputs": [
        {
          "output_type": "stream",
          "text": [
            "/usr/local/lib/python3.7/dist-packages/seaborn/_decorators.py:43: FutureWarning: Pass the following variable as a keyword arg: x. From version 0.12, the only valid positional argument will be `data`, and passing other arguments without an explicit keyword will result in an error or misinterpretation.\n",
            "  FutureWarning\n"
          ],
          "name": "stderr"
        },
        {
          "output_type": "execute_result",
          "data": {
            "text/plain": [
              "<matplotlib.axes._subplots.AxesSubplot at 0x7fadad2ec510>"
            ]
          },
          "metadata": {
            "tags": []
          },
          "execution_count": 7
        },
        {
          "output_type": "display_data",
          "data": {
            "image/png": "[encoded data removed]",
            "text/plain": [
              "<Figure size 432x288 with 1 Axes>"
            ]
          },
          "metadata": {
            "tags": [],
            "needs_background": "light"
          }
        }
      ]
    },
    {
      "cell_type": "code",
      "metadata": {
        "colab": {
          "base_uri": "https://localhost:8080/",
          "height": 279
        },
        "id": "a58JHbxFCxd2",
        "outputId": "2e8e7de7-3be6-4d4b-fc6b-4309f3abd8e7"
      },
      "source": [
        "sns.boxenplot(x=\"status\", y=\"nodes\", data=data1 )\n",
        "plt.show()"
      ],
      "execution_count": null,
      "outputs": [
        {
          "output_type": "display_data",
          "data": {
            "image/png": "[encoded data removed]",
            "text/plain": [
              "<Figure size 432x288 with 1 Axes>"
            ]
          },
          "metadata": {
            "tags": [],
            "needs_background": "light"
          }
        }
      ]
    },
    {
      "cell_type": "code",
      "metadata": {
        "colab": {
          "base_uri": "https://localhost:8080/",
          "height": 296
        },
        "id": "ELvNxmLjD9DE",
        "outputId": "ce342526-ae71-42b4-c069-0606972b3277"
      },
      "source": [
        "sns.violinplot(x='status', y='nodes', data=data1, size=8)\n",
        "plt.show"
      ],
      "execution_count": null,
      "outputs": [
        {
          "output_type": "execute_result",
          "data": {
            "text/plain": [
              "<function matplotlib.pyplot.show>"
            ]
          },
          "metadata": {
            "tags": []
          },
          "execution_count": 9
        },
        {
          "output_type": "display_data",
          "data": {
            "image/png": "[encoded data removed]",
            "text/plain": [
              "<Figure size 432x288 with 1 Axes>"
            ]
          },
          "metadata": {
            "tags": [],
            "needs_background": "light"
          }
        }
      ]
    },
    {
      "cell_type": "code",
      "metadata": {
        "colab": {
          "base_uri": "https://localhost:8080/",
          "height": 567
        },
        "id": "-RklMKH8GFET",
        "outputId": "08c19e79-3017-4677-8ca3-39db9cb47497"
      },
      "source": [
        "sns.pairplot(data1, hue='status', vars=['age', 'year', 'nodes'])"
      ],
      "execution_count": null,
      "outputs": [
        {
          "output_type": "execute_result",
          "data": {
            "text/plain": [
              "<seaborn.axisgrid.PairGrid at 0x7fada4585d10>"
            ]
          },
          "metadata": {
            "tags": []
          },
          "execution_count": 10
        },
        {
          "output_type": "display_data",
          "data": {
            "image/png": "[encoded data removed]",
            "text/plain": [
              "<Figure size 582.375x540 with 12 Axes>"
            ]
          },
          "metadata": {
            "tags": [],
            "needs_background": "light"
          }
        }
      ]
    },
    {
      "cell_type": "code",
      "metadata": {
        "id": "N0mE0-DwG1U8",
        "colab": {
          "base_uri": "https://localhost:8080/",
          "height": 286
        },
        "outputId": "a0304bb3-b97c-482d-f89c-d5f09f58dee1"
      },
      "source": [
        "sns.heatmap(data1.corr(), annot=True)"
      ],
      "execution_count": null,
      "outputs": [
        {
          "output_type": "execute_result",
          "data": {
            "text/plain": [
              "<matplotlib.axes._subplots.AxesSubplot at 0x7fada2126dd0>"
            ]
          },
          "metadata": {
            "tags": []
          },
          "execution_count": 11
        },
        {
          "output_type": "display_data",
          "data": {
            "image/png": "[encoded data removed]",
            "text/plain": [
              "<Figure size 432x288 with 2 Axes>"
            ]
          },
          "metadata": {
            "tags": [],
            "needs_background": "light"
          }
        }
      ]
    },
    {
      "cell_type": "code",
      "metadata": {
        "id": "4zM2wZFXSjNg"
      },
      "source": [
        "#building our model\n"
      ],
      "execution_count": null,
      "outputs": []
    },
    {
      "cell_type": "code",
      "metadata": {
        "id": "mqQdmq7ZTLdz"
      },
      "source": [
        "#devive our dataset into two categories x and y\n",
        "dataF = pd.DataFrame(data1, columns=['age', 'year', 'nodes', 'status'])"
      ],
      "execution_count": null,
      "outputs": []
    },
    {
      "cell_type": "code",
      "metadata": {
        "id": "7b4TbhSNUGML"
      },
      "source": [
        "x = dataF.drop(['status'], axis=1)"
      ],
      "execution_count": null,
      "outputs": []
    },
    {
      "cell_type": "code",
      "metadata": {
        "id": "34vyGgdceJCb"
      },
      "source": [
        "y = dataF['status']"
      ],
      "execution_count": null,
      "outputs": []
    },
    {
      "cell_type": "code",
      "metadata": {
        "id": "F8Q4gziTeM8q"
      },
      "source": [
        "from sklearn.model_selection import train_test_split\n",
        "x_train, x_test, y_train, y_test = train_test_split(x, y, test_size = 0.2, random_state=5)"
      ],
      "execution_count": null,
      "outputs": []
    },
    {
      "cell_type": "code",
      "metadata": {
        "colab": {
          "base_uri": "https://localhost:8080/"
        },
        "id": "QkMddrhUgCO0",
        "outputId": "e3e5d176-fd6c-4bf8-bac1-d4193cd5a14d"
      },
      "source": [
        "x_train.shape"
      ],
      "execution_count": null,
      "outputs": [
        {
          "output_type": "execute_result",
          "data": {
            "text/plain": [
              "(244, 3)"
            ]
          },
          "metadata": {
            "tags": []
          },
          "execution_count": 17
        }
      ]
    },
    {
      "cell_type": "code",
      "metadata": {
        "colab": {
          "base_uri": "https://localhost:8080/"
        },
        "id": "Qvdout7ygZ6E",
        "outputId": "71688e8b-134c-413c-a494-5172a02d5354"
      },
      "source": [
        "y_train.shape"
      ],
      "execution_count": null,
      "outputs": [
        {
          "output_type": "execute_result",
          "data": {
            "text/plain": [
              "(244,)"
            ]
          },
          "metadata": {
            "tags": []
          },
          "execution_count": 18
        }
      ]
    },
    {
      "cell_type": "code",
      "metadata": {
        "colab": {
          "base_uri": "https://localhost:8080/"
        },
        "id": "JBTBBchxgeeb",
        "outputId": "c9f5da68-b7f8-4a99-ad8a-d2741a3f1bc2"
      },
      "source": [
        "y_test.shape"
      ],
      "execution_count": null,
      "outputs": [
        {
          "output_type": "execute_result",
          "data": {
            "text/plain": [
              "(61,)"
            ]
          },
          "metadata": {
            "tags": []
          },
          "execution_count": 19
        }
      ]
    },
    {
      "cell_type": "code",
      "metadata": {
        "id": "KS7zZZeogjTz"
      },
      "source": [
        "from sklearn.svm import SVC"
      ],
      "execution_count": null,
      "outputs": []
    },
    {
      "cell_type": "code",
      "metadata": {
        "id": "N2EsCupgg3iS"
      },
      "source": [
        "from sklearn.metrics import classification_report, confusion_matrix"
      ],
      "execution_count": null,
      "outputs": []
    },
    {
      "cell_type": "code",
      "metadata": {
        "id": "FFSCyBtnhFnb"
      },
      "source": [
        "svc_model = SVC(gamma='auto')"
      ],
      "execution_count": null,
      "outputs": []
    },
    {
      "cell_type": "code",
      "metadata": {
        "colab": {
          "base_uri": "https://localhost:8080/",
          "height": 313
        },
        "id": "Izu7GD2UhXJE",
        "outputId": "78af5e0e-bde8-489f-d5d5-2fc5316bdbbb"
      },
      "source": [
        "import time\n",
        "start_time = time.time()\n",
        "svc_model.fit(x_train, y_train)\n",
        "print(\"time - {}\".format(time.time()-start_time))\n",
        "metrics.plot_roc_curve(svc_model, x_test, y_test)\n"
      ],
      "execution_count": null,
      "outputs": [
        {
          "output_type": "stream",
          "text": [
            "time - 0.007963895797729492\n"
          ],
          "name": "stdout"
        },
        {
          "output_type": "execute_result",
          "data": {
            "text/plain": [
              "<sklearn.metrics._plot.roc_curve.RocCurveDisplay at 0x7fada21af710>"
            ]
          },
          "metadata": {
            "tags": []
          },
          "execution_count": 23
        },
        {
          "output_type": "display_data",
          "data": {
            "image/png": "[encoded data removed]",
            "text/plain": [
              "<Figure size 432x288 with 1 Axes>"
            ]
          },
          "metadata": {
            "tags": [],
            "needs_background": "light"
          }
        }
      ]
    },
    {
      "cell_type": "code",
      "metadata": {
        "id": "VsbbU1BKhjy6",
        "colab": {
          "base_uri": "https://localhost:8080/"
        },
        "outputId": "77844bff-3274-4d07-8355-76ca25013045"
      },
      "source": [
        "y_predict = svc_model.predict(x_test)\n",
        "y_predict.shape"
      ],
      "execution_count": null,
      "outputs": [
        {
          "output_type": "execute_result",
          "data": {
            "text/plain": [
              "(61,)"
            ]
          },
          "metadata": {
            "tags": []
          },
          "execution_count": 24
        }
      ]
    },
    {
      "cell_type": "code",
      "metadata": {
        "id": "i6B8chHYcD_c"
      },
      "source": [],
      "execution_count": null,
      "outputs": []
    },
    {
      "cell_type": "code",
      "metadata": {
        "id": "rVUA1EIshyOn",
        "colab": {
          "base_uri": "https://localhost:8080/"
        },
        "outputId": "6a619a0d-2c82-4322-f8c4-e81b61febb97"
      },
      "source": [
        "cm = confusion_matrix(y_test, y_predict)\n",
        "mean_squared_error(y_test, y_predict)\n",
        "mean_absolute_error(y_test, y_predict)"
      ],
      "execution_count": null,
      "outputs": [
        {
          "output_type": "execute_result",
          "data": {
            "text/plain": [
              "0.2786885245901639"
            ]
          },
          "metadata": {
            "tags": []
          },
          "execution_count": 25
        }
      ]
    },
    {
      "cell_type": "code",
      "metadata": {
        "id": "yzdK3Zkah8RP",
        "colab": {
          "base_uri": "https://localhost:8080/"
        },
        "outputId": "3df54d54-7b39-405f-b4f0-6e74306e0783"
      },
      "source": [
        "from math import sqrt\n",
        "print(sqrt(metrics.mean_squared_error(y_test, y_predict)))\n",
        "rse = math.sqrt(0.295081967213114/(242))\n",
        "rse"
      ],
      "execution_count": null,
      "outputs": [
        {
          "output_type": "stream",
          "text": [
            "0.5279095799378564\n"
          ],
          "name": "stdout"
        },
        {
          "output_type": "execute_result",
          "data": {
            "text/plain": [
              "0.03491914907260795"
            ]
          },
          "metadata": {
            "tags": []
          },
          "execution_count": 26
        }
      ]
    },
    {
      "cell_type": "code",
      "metadata": {
        "id": "9BjnwzAYh9rP",
        "colab": {
          "base_uri": "https://localhost:8080/",
          "height": 282
        },
        "outputId": "bda505ed-13ca-4a3a-b6af-ab38064a6f20"
      },
      "source": [
        "sns.heatmap(cm, annot=True)"
      ],
      "execution_count": null,
      "outputs": [
        {
          "output_type": "execute_result",
          "data": {
            "text/plain": [
              "<matplotlib.axes._subplots.AxesSubplot at 0x7fadacdf0dd0>"
            ]
          },
          "metadata": {
            "tags": []
          },
          "execution_count": 27
        },
        {
          "output_type": "display_data",
          "data": {
            "image/png": "[encoded data removed]",
            "text/plain": [
              "<Figure size 432x288 with 2 Axes>"
            ]
          },
          "metadata": {
            "tags": [],
            "needs_background": "light"
          }
        }
      ]
    },
    {
      "cell_type": "code",
      "metadata": {
        "id": "HbfVqjKtiRss",
        "colab": {
          "base_uri": "https://localhost:8080/"
        },
        "outputId": "7cbb934c-cceb-4f36-9d25-c242284fd74c"
      },
      "source": [
        "print(classification_report(y_test, y_predict))\n"
      ],
      "execution_count": null,
      "outputs": [
        {
          "output_type": "stream",
          "text": [
            "              precision    recall  f1-score   support\n",
            "\n",
            "           1       0.72      1.00      0.83        43\n",
            "           2       1.00      0.06      0.11        18\n",
            "\n",
            "    accuracy                           0.72        61\n",
            "   macro avg       0.86      0.53      0.47        61\n",
            "weighted avg       0.80      0.72      0.62        61\n",
            "\n"
          ],
          "name": "stdout"
        }
      ]
    },
    {
      "cell_type": "code",
      "metadata": {
        "id": "mW1JrFU8YK2b",
        "colab": {
          "base_uri": "https://localhost:8080/"
        },
        "outputId": "d951a66e-0f4e-427e-d815-fb7f137a0d66"
      },
      "source": [
        "from sklearn import preprocessing\n",
        "min_max_scaler = preprocessing.MinMaxScaler()\n",
        "B = np.array([0.295081967213114, 0.22950819672131148, 0.26229508196721313, 0.29508196721311475, 0.2459016393442623])\n",
        "norm_DF2 = pd.DataFrame(B)\n",
        "norma_mse = min_max_scaler.fit_transform(norm_DF2)\n",
        "print(norma_mse)"
      ],
      "execution_count": null,
      "outputs": [
        {
          "output_type": "stream",
          "text": [
            "[[1.  ]\n",
            " [0.  ]\n",
            " [0.5 ]\n",
            " [1.  ]\n",
            " [0.25]]\n"
          ],
          "name": "stdout"
        }
      ]
    },
    {
      "cell_type": "code",
      "metadata": {
        "id": "VTztCGhKZ0R8",
        "colab": {
          "base_uri": "https://localhost:8080/"
        },
        "outputId": "9158e278-2a51-4201-9ecc-7cf8212f64df"
      },
      "source": [
        "x_train_scaler = min_max_scaler.fit_transform(x_train)\n",
        "x_test_scaler = min_max_scaler.fit_transform(x_test)\n",
        "A = np.array([-0.41860465116279,-0.103359173126614,-0.260981912144702,0.41860465116279,-2.26785714285714])\n",
        "norm_DF = pd.DataFrame(A)\n",
        "norma_r2 = min_max_scaler.fit_transform(norm_DF)\n",
        "print(norma_r2)"
      ],
      "execution_count": null,
      "outputs": [
        {
          "output_type": "stream",
          "text": [
            "[[0.68835987]\n",
            " [0.80570584]\n",
            " [0.74703286]\n",
            " [1.        ]\n",
            " [0.        ]]\n"
          ],
          "name": "stdout"
        }
      ]
    },
    {
      "cell_type": "code",
      "metadata": {
        "id": "Duqk_LbZabbj",
        "colab": {
          "base_uri": "https://localhost:8080/"
        },
        "outputId": "5b8514e3-52b6-422f-b3c9-c79bcf40c306"
      },
      "source": [
        "start_time = time.time()\n",
        "svc_model.fit(x_train_scaler, y_train)\n",
        "print(\"time - {}\".format(time.time()-start_time))\n"
      ],
      "execution_count": null,
      "outputs": [
        {
          "output_type": "stream",
          "text": [
            "time - 0.005502462387084961\n"
          ],
          "name": "stdout"
        }
      ]
    },
    {
      "cell_type": "code",
      "metadata": {
        "id": "kqvt8rqlay86"
      },
      "source": [
        "y_predict_scaled = svc_model.predict(x_test_scaler)"
      ],
      "execution_count": null,
      "outputs": []
    },
    {
      "cell_type": "code",
      "metadata": {
        "id": "B2uVT0mVh3iQ",
        "colab": {
          "base_uri": "https://localhost:8080/"
        },
        "outputId": "114332d2-aed4-4fd3-abbd-d2d6477051b4"
      },
      "source": [
        "cm = confusion_matrix(y_test, y_predict_scaled)\n",
        "mean_squared_error(y_test, y_predict_scaled)\n"
      ],
      "execution_count": null,
      "outputs": [
        {
          "output_type": "execute_result",
          "data": {
            "text/plain": [
              "0.29508196721311475"
            ]
          },
          "metadata": {
            "tags": []
          },
          "execution_count": 33
        }
      ]
    },
    {
      "cell_type": "code",
      "metadata": {
        "id": "3k_fM1khiQxu",
        "colab": {
          "base_uri": "https://localhost:8080/",
          "height": 282
        },
        "outputId": "584c6a34-4c16-41d5-8358-6aa34b8beb67"
      },
      "source": [
        "sns.heatmap(cm, annot=True)"
      ],
      "execution_count": null,
      "outputs": [
        {
          "output_type": "execute_result",
          "data": {
            "text/plain": [
              "<matplotlib.axes._subplots.AxesSubplot at 0x7fad9ede8110>"
            ]
          },
          "metadata": {
            "tags": []
          },
          "execution_count": 34
        },
        {
          "output_type": "display_data",
          "data": {
            "image/png": "[encoded data removed]",
            "text/plain": [
              "<Figure size 432x288 with 2 Axes>"
            ]
          },
          "metadata": {
            "tags": [],
            "needs_background": "light"
          }
        }
      ]
    },
    {
      "cell_type": "code",
      "metadata": {
        "id": "X1OY5QqviY0j",
        "colab": {
          "base_uri": "https://localhost:8080/"
        },
        "outputId": "db7fbdda-6c8c-4ab3-b22c-830ce18dc88f"
      },
      "source": [
        "print(classification_report(y_test, y_predict_scaled))"
      ],
      "execution_count": null,
      "outputs": [
        {
          "output_type": "stream",
          "text": [
            "              precision    recall  f1-score   support\n",
            "\n",
            "           1       0.70      1.00      0.83        43\n",
            "           2       0.00      0.00      0.00        18\n",
            "\n",
            "    accuracy                           0.70        61\n",
            "   macro avg       0.35      0.50      0.41        61\n",
            "weighted avg       0.50      0.70      0.58        61\n",
            "\n"
          ],
          "name": "stdout"
        },
        {
          "output_type": "stream",
          "text": [
            "/usr/local/lib/python3.7/dist-packages/sklearn/metrics/_classification.py:1272: UndefinedMetricWarning: Precision and F-score are ill-defined and being set to 0.0 in labels with no predicted samples. Use `zero_division` parameter to control this behavior.\n",
            "  _warn_prf(average, modifier, msg_start, len(result))\n"
          ],
          "name": "stderr"
        }
      ]
    },
    {
      "cell_type": "code",
      "metadata": {
        "id": "OU-aQ7qGiwyD",
        "colab": {
          "base_uri": "https://localhost:8080/"
        },
        "outputId": "bfeeddf2-d6da-4bba-a71c-4d7576b3127d"
      },
      "source": [
        "start_time = time.time()\n",
        "from sklearn.neighbors import KNeighborsClassifier\n",
        "knn = KNeighborsClassifier(n_neighbors=5)\n",
        "knn.fit(x_train, y_train)\n",
        "print(\"time - {}\".format(time.time()-start_time))\n"
      ],
      "execution_count": null,
      "outputs": [
        {
          "output_type": "stream",
          "text": [
            "time - 0.09028887748718262\n"
          ],
          "name": "stdout"
        }
      ]
    },
    {
      "cell_type": "code",
      "metadata": {
        "id": "3gUzBTn4AgtX"
      },
      "source": [
        "y_predict_KNN = knn.predict(x_test)"
      ],
      "execution_count": null,
      "outputs": []
    },
    {
      "cell_type": "code",
      "metadata": {
        "id": "lM75en_GAsJO",
        "colab": {
          "base_uri": "https://localhost:8080/"
        },
        "outputId": "956380e2-17a9-42ad-f0ec-6d4be08be0ad"
      },
      "source": [
        "cm2 = confusion_matrix(y_test, y_predict_KNN)\n",
        "mean_absolute_error(y_test, y_predict_KNN)\n",
        "print(sqrt(metrics.mean_squared_error(y_test, y_predict_KNN)))\n",
        "rse = math.sqrt(0.229508196721311/(242))\n",
        "rse"
      ],
      "execution_count": null,
      "outputs": [
        {
          "output_type": "stream",
          "text": [
            "0.47907013758040845\n"
          ],
          "name": "stdout"
        },
        {
          "output_type": "execute_result",
          "data": {
            "text/plain": [
              "0.030795794813370796"
            ]
          },
          "metadata": {
            "tags": []
          },
          "execution_count": 38
        }
      ]
    },
    {
      "cell_type": "code",
      "metadata": {
        "id": "EABqL01UBKUF",
        "colab": {
          "base_uri": "https://localhost:8080/"
        },
        "outputId": "760d3f9b-05ca-4a27-f7df-8f6d8f5f9263"
      },
      "source": [
        "cm2"
      ],
      "execution_count": null,
      "outputs": [
        {
          "output_type": "execute_result",
          "data": {
            "text/plain": [
              "array([[40,  3],\n",
              "       [11,  7]])"
            ]
          },
          "metadata": {
            "tags": []
          },
          "execution_count": 39
        }
      ]
    },
    {
      "cell_type": "code",
      "metadata": {
        "id": "d-nfg5PmBMNt",
        "colab": {
          "base_uri": "https://localhost:8080/",
          "height": 286
        },
        "outputId": "0d763292-1c51-4fed-fbaa-03b7ec80782a"
      },
      "source": [
        "sns.heatmap(cm2, annot=True)"
      ],
      "execution_count": null,
      "outputs": [
        {
          "output_type": "execute_result",
          "data": {
            "text/plain": [
              "<matplotlib.axes._subplots.AxesSubplot at 0x7fad9deab890>"
            ]
          },
          "metadata": {
            "tags": []
          },
          "execution_count": 40
        },
        {
          "output_type": "display_data",
          "data": {
            "image/png": "[encoded data removed]",
            "text/plain": [
              "<Figure size 432x288 with 2 Axes>"
            ]
          },
          "metadata": {
            "tags": [],
            "needs_background": "light"
          }
        }
      ]
    },
    {
      "cell_type": "code",
      "metadata": {
        "id": "K8hOA2d-BUOm",
        "colab": {
          "base_uri": "https://localhost:8080/"
        },
        "outputId": "c61413c9-b911-4d86-97be-40a54bc600eb"
      },
      "source": [
        "print(classification_report(y_test, y_predict_KNN))"
      ],
      "execution_count": null,
      "outputs": [
        {
          "output_type": "stream",
          "text": [
            "              precision    recall  f1-score   support\n",
            "\n",
            "           1       0.78      0.93      0.85        43\n",
            "           2       0.70      0.39      0.50        18\n",
            "\n",
            "    accuracy                           0.77        61\n",
            "   macro avg       0.74      0.66      0.68        61\n",
            "weighted avg       0.76      0.77      0.75        61\n",
            "\n"
          ],
          "name": "stdout"
        }
      ]
    },
    {
      "cell_type": "code",
      "metadata": {
        "id": "YwakPhTyBlUK",
        "colab": {
          "base_uri": "https://localhost:8080/"
        },
        "outputId": "113b64fe-c172-467d-b62b-03386bb8fba8"
      },
      "source": [
        "start_time = time.time()\n",
        "knn.fit(x_train_scaler, y_train)\n",
        "y_predict_KNN_scaled = knn.predict(x_test_scaler)\n",
        "print(\"time - {}\".format(time.time()-start_time))"
      ],
      "execution_count": null,
      "outputs": [
        {
          "output_type": "stream",
          "text": [
            "time - 0.01018834114074707\n"
          ],
          "name": "stdout"
        }
      ]
    },
    {
      "cell_type": "code",
      "metadata": {
        "id": "5GxlxAKFE1I2",
        "colab": {
          "base_uri": "https://localhost:8080/"
        },
        "outputId": "3b850ed9-690e-40ce-99a2-41d144b7533c"
      },
      "source": [
        "cm3 = confusion_matrix(y_test, y_predict_KNN_scaled)\n",
        "mean_squared_error(y_test, y_predict_KNN_scaled)\n"
      ],
      "execution_count": null,
      "outputs": [
        {
          "output_type": "execute_result",
          "data": {
            "text/plain": [
              "0.22950819672131148"
            ]
          },
          "metadata": {
            "tags": []
          },
          "execution_count": 43
        }
      ]
    },
    {
      "cell_type": "code",
      "metadata": {
        "id": "JodDNVtHFKT1",
        "colab": {
          "base_uri": "https://localhost:8080/",
          "height": 282
        },
        "outputId": "18f778ed-da5a-476b-e811-282d41f6e5a6"
      },
      "source": [
        "sns.heatmap(cm3, annot=True)"
      ],
      "execution_count": null,
      "outputs": [
        {
          "output_type": "execute_result",
          "data": {
            "text/plain": [
              "<matplotlib.axes._subplots.AxesSubplot at 0x7fad9de5a450>"
            ]
          },
          "metadata": {
            "tags": []
          },
          "execution_count": 44
        },
        {
          "output_type": "display_data",
          "data": {
            "image/png": "[encoded data removed]",
            "text/plain": [
              "<Figure size 432x288 with 2 Axes>"
            ]
          },
          "metadata": {
            "tags": [],
            "needs_background": "light"
          }
        }
      ]
    },
    {
      "cell_type": "code",
      "metadata": {
        "id": "ln-Wxg5dFQXt",
        "colab": {
          "base_uri": "https://localhost:8080/"
        },
        "outputId": "cfdc9f3b-0ffd-411c-e40f-d205374b1da2"
      },
      "source": [
        "print(classification_report(y_test, y_predict_KNN_scaled))"
      ],
      "execution_count": null,
      "outputs": [
        {
          "output_type": "stream",
          "text": [
            "              precision    recall  f1-score   support\n",
            "\n",
            "           1       0.81      0.88      0.84        43\n",
            "           2       0.64      0.50      0.56        18\n",
            "\n",
            "    accuracy                           0.77        61\n",
            "   macro avg       0.73      0.69      0.70        61\n",
            "weighted avg       0.76      0.77      0.76        61\n",
            "\n"
          ],
          "name": "stdout"
        }
      ]
    },
    {
      "cell_type": "code",
      "metadata": {
        "id": "CNt4lAMWFZF1"
      },
      "source": [
        "from sklearn import  metrics\n"
      ],
      "execution_count": null,
      "outputs": []
    },
    {
      "cell_type": "code",
      "metadata": {
        "id": "94eJ6oghLsm3",
        "colab": {
          "base_uri": "https://localhost:8080/"
        },
        "outputId": "2c925b4d-8b41-4523-bd7d-b42c5f566535"
      },
      "source": [
        "sc=metrics.accuracy_score(y_test, y_predict_KNN)\n",
        "print(sc)\n"
      ],
      "execution_count": null,
      "outputs": [
        {
          "output_type": "stream",
          "text": [
            "0.7704918032786885\n"
          ],
          "name": "stdout"
        }
      ]
    },
    {
      "cell_type": "code",
      "metadata": {
        "id": "Za247eRVL25l"
      },
      "source": [
        "k_range = range(5, 25)"
      ],
      "execution_count": null,
      "outputs": []
    },
    {
      "cell_type": "code",
      "metadata": {
        "id": "w1A9yWThMVyl"
      },
      "source": [
        "acc_list = []"
      ],
      "execution_count": null,
      "outputs": []
    },
    {
      "cell_type": "code",
      "metadata": {
        "id": "NXPOHOLnMZ_e"
      },
      "source": [
        "for k in k_range:\n",
        "  knn2 = KNeighborsClassifier(n_neighbors=k)\n",
        "  knn2.fit(x_train, y_train)\n",
        "  pred_y = knn2.predict(x_test)\n",
        "  acc_list.append(metrics.accuracy_score(y_test, pred_y))"
      ],
      "execution_count": null,
      "outputs": []
    },
    {
      "cell_type": "code",
      "metadata": {
        "id": "DWgqgx6oNak_",
        "colab": {
          "base_uri": "https://localhost:8080/"
        },
        "outputId": "95d0ec4c-6fe3-4d53-e6b0-4e61243bd518"
      },
      "source": [
        "print(acc_list)"
      ],
      "execution_count": null,
      "outputs": [
        {
          "output_type": "stream",
          "text": [
            "[0.7704918032786885, 0.7377049180327869, 0.7377049180327869, 0.7704918032786885, 0.7704918032786885, 0.7868852459016393, 0.7704918032786885, 0.7540983606557377, 0.7540983606557377, 0.7540983606557377, 0.7704918032786885, 0.7704918032786885, 0.7704918032786885, 0.7704918032786885, 0.7704918032786885, 0.7540983606557377, 0.7704918032786885, 0.7868852459016393, 0.7868852459016393, 0.7868852459016393]\n"
          ],
          "name": "stdout"
        }
      ]
    },
    {
      "cell_type": "code",
      "metadata": {
        "id": "y2yC-DiYNek9"
      },
      "source": [
        "import matplotlib.pyplot as plt\n"
      ],
      "execution_count": null,
      "outputs": []
    },
    {
      "cell_type": "code",
      "metadata": {
        "id": "DNQqnpcnPcC_"
      },
      "source": [
        "%matplotlib inline\n"
      ],
      "execution_count": null,
      "outputs": []
    },
    {
      "cell_type": "code",
      "metadata": {
        "id": "PB9b9pwFPipl",
        "colab": {
          "base_uri": "https://localhost:8080/",
          "height": 1000
        },
        "outputId": "894e5e61-2afc-49eb-94cd-519073169ee6"
      },
      "source": [
        "plt.plot(k_range, acc_list)\n",
        "plt.xlabel(k_range)\n",
        "plt.ylabel(acc_list)"
      ],
      "execution_count": null,
      "outputs": [
        {
          "output_type": "execute_result",
          "data": {
            "text/plain": [
              "Text(0, 0.5, '[0.7704918032786885, 0.7377049180327869, 0.7377049180327869, 0.7704918032786885, 0.7704918032786885, 0.7868852459016393, 0.7704918032786885, 0.7540983606557377, 0.7540983606557377, 0.7540983606557377, 0.7704918032786885, 0.7704918032786885, 0.7704918032786885, 0.7704918032786885, 0.7704918032786885, 0.7540983606557377, 0.7704918032786885, 0.7868852459016393, 0.7868852459016393, 0.7868852459016393]')"
            ]
          },
          "metadata": {
            "tags": []
          },
          "execution_count": 54
        },
        {
          "output_type": "display_data",
          "data": {
            "image/png": "[encoded data removed]",
            "text/plain": [
              "<Figure size 432x288 with 1 Axes>"
            ]
          },
          "metadata": {
            "tags": [],
            "needs_background": "light"
          }
        }
      ]
    },
    {
      "cell_type": "code",
      "metadata": {
        "id": "otTfF4-7QE-Q",
        "colab": {
          "base_uri": "https://localhost:8080/"
        },
        "outputId": "233bec21-da1e-4297-d5ca-77f5b16bff68"
      },
      "source": [
        "print(max(acc_list))"
      ],
      "execution_count": null,
      "outputs": [
        {
          "output_type": "stream",
          "text": [
            "0.7868852459016393\n"
          ],
          "name": "stdout"
        }
      ]
    },
    {
      "cell_type": "code",
      "metadata": {
        "id": "G2T_U5kPQyIi",
        "colab": {
          "base_uri": "https://localhost:8080/"
        },
        "outputId": "b7f04c64-d7e6-438f-c5f1-c8b87471730f"
      },
      "source": [
        "print(min(acc_list))"
      ],
      "execution_count": null,
      "outputs": [
        {
          "output_type": "stream",
          "text": [
            "0.7377049180327869\n"
          ],
          "name": "stdout"
        }
      ]
    },
    {
      "cell_type": "code",
      "metadata": {
        "id": "SnNhsv7sQ5U9"
      },
      "source": [
        "#@title Titre par défaut\n",
        "from sklearn.naive_bayes import GaussianNB\n",
        "x_train1, x_test1, y_train1, y_test1 = train_test_split(x, y, test_size=0.2, random_state=5)\n"
      ],
      "execution_count": null,
      "outputs": []
    },
    {
      "cell_type": "code",
      "metadata": {
        "id": "I8A-s5g3Vq6O"
      },
      "source": [
        "gnb = GaussianNB()"
      ],
      "execution_count": null,
      "outputs": []
    },
    {
      "cell_type": "code",
      "metadata": {
        "id": "flFeLbrfV0zO",
        "colab": {
          "base_uri": "https://localhost:8080/"
        },
        "outputId": "af647d77-e1de-45d2-dfa9-7ceec906584c"
      },
      "source": [
        "\n",
        "start_time = time.time()\n",
        "gnb.fit(x_train1, y_train1)\n",
        "print(\"time - {}\".format(time.time()-start_time))\n"
      ],
      "execution_count": null,
      "outputs": [
        {
          "output_type": "stream",
          "text": [
            "time - 0.007672309875488281\n"
          ],
          "name": "stdout"
        }
      ]
    },
    {
      "cell_type": "code",
      "metadata": {
        "id": "NZJk8wBZWFUu"
      },
      "source": [
        "predict_y = gnb.predict(x_test1)"
      ],
      "execution_count": null,
      "outputs": []
    },
    {
      "cell_type": "code",
      "metadata": {
        "id": "79ojsgD6WNp1",
        "colab": {
          "base_uri": "https://localhost:8080/",
          "height": 282
        },
        "outputId": "bbac29e4-2101-4878-e81c-a8c5388ea979"
      },
      "source": [
        "cm4 = confusion_matrix(y_test1, predict_y)\n",
        "sns.heatmap(cm4, annot=True)\n",
        "mean_squared_error(y_test1, predict_y)\n",
        "print(sqrt(metrics.mean_squared_error(y_test1, predict_y)))\n"
      ],
      "execution_count": null,
      "outputs": [
        {
          "output_type": "stream",
          "text": [
            "0.5121475197315839\n"
          ],
          "name": "stdout"
        },
        {
          "output_type": "display_data",
          "data": {
            "image/png": "[encoded data removed]",
            "text/plain": [
              "<Figure size 432x288 with 2 Axes>"
            ]
          },
          "metadata": {
            "tags": [],
            "needs_background": "light"
          }
        }
      ]
    },
    {
      "cell_type": "code",
      "metadata": {
        "id": "7NlV-apHWm89",
        "colab": {
          "base_uri": "https://localhost:8080/"
        },
        "outputId": "9a43d7b5-7f80-4db2-e23e-c5b5b22ea12e"
      },
      "source": [
        "print(classification_report(y_test1, predict_y))\n",
        "print(metrics.accuracy_score(y_test1, predict_y))"
      ],
      "execution_count": null,
      "outputs": [
        {
          "output_type": "stream",
          "text": [
            "              precision    recall  f1-score   support\n",
            "\n",
            "           1       0.75      0.95      0.84        43\n",
            "           2       0.67      0.22      0.33        18\n",
            "\n",
            "    accuracy                           0.74        61\n",
            "   macro avg       0.71      0.59      0.59        61\n",
            "weighted avg       0.72      0.74      0.69        61\n",
            "\n",
            "0.7377049180327869\n"
          ],
          "name": "stdout"
        }
      ]
    },
    {
      "cell_type": "code",
      "metadata": {
        "id": "Nc6INu-VWv-t",
        "colab": {
          "base_uri": "https://localhost:8080/"
        },
        "outputId": "c96b6ddd-d5a8-489c-d142-812d08d14369"
      },
      "source": [
        "x_train_scaler1 = min_max_scaler.fit_transform(x_train1)\n",
        "x_test_scaler1 = min_max_scaler.fit_transform(x_test1)\n",
        "rse = math.sqrt(0.262295081967213/(242))\n",
        "rse"
      ],
      "execution_count": null,
      "outputs": [
        {
          "output_type": "execute_result",
          "data": {
            "text/plain": [
              "0.032922089470006737"
            ]
          },
          "metadata": {
            "tags": []
          },
          "execution_count": 63
        }
      ]
    },
    {
      "cell_type": "code",
      "metadata": {
        "id": "2YQW7POTbYwO",
        "colab": {
          "base_uri": "https://localhost:8080/"
        },
        "outputId": "a350f525-eb5b-4750-8d4d-0b89a1391e30"
      },
      "source": [
        "\n",
        "start_time = time.time()\n",
        "gnb.fit(x_train_scaler1, y_train1)\n",
        "print(\"time - {}\".format(time.time()-start_time))"
      ],
      "execution_count": null,
      "outputs": [
        {
          "output_type": "stream",
          "text": [
            "time - 0.002065420150756836\n"
          ],
          "name": "stdout"
        }
      ]
    },
    {
      "cell_type": "code",
      "metadata": {
        "id": "-_zRBiGpbtrd",
        "colab": {
          "base_uri": "https://localhost:8080/"
        },
        "outputId": "6c4cb1f5-9b21-4d21-eb6a-551012d881ef"
      },
      "source": [
        "predict_y_scaled = gnb.predict(x_test_scaler1)\n",
        "print(predict_y_scaled)"
      ],
      "execution_count": null,
      "outputs": [
        {
          "output_type": "stream",
          "text": [
            "[2 2 1 2 1 1 1 1 1 2 1 2 2 1 1 1 1 2 2 1 1 1 1 2 1 1 1 2 2 1 1 1 1 1 1 1 1\n",
            " 1 1 1 2 1 1 1 1 1 1 1 1 1 2 1 1 1 1 1 1 2 1 1 1]\n"
          ],
          "name": "stdout"
        }
      ]
    },
    {
      "cell_type": "code",
      "metadata": {
        "id": "ByZMg2MwdC0P",
        "colab": {
          "base_uri": "https://localhost:8080/"
        },
        "outputId": "c6be4684-7004-4fa7-85c0-d6d68c6cbf43"
      },
      "source": [
        "y_test.shape"
      ],
      "execution_count": null,
      "outputs": [
        {
          "output_type": "execute_result",
          "data": {
            "text/plain": [
              "(61,)"
            ]
          },
          "metadata": {
            "tags": []
          },
          "execution_count": 66
        }
      ]
    },
    {
      "cell_type": "code",
      "metadata": {
        "id": "t4B3JnZBdUK1",
        "colab": {
          "base_uri": "https://localhost:8080/"
        },
        "outputId": "d6d03168-d163-438d-e328-6f5cc2072705"
      },
      "source": [
        "predict_y_scaled.shape"
      ],
      "execution_count": null,
      "outputs": [
        {
          "output_type": "execute_result",
          "data": {
            "text/plain": [
              "(61,)"
            ]
          },
          "metadata": {
            "tags": []
          },
          "execution_count": 67
        }
      ]
    },
    {
      "cell_type": "code",
      "metadata": {
        "id": "5iUHi3Gsl-Me",
        "colab": {
          "base_uri": "https://localhost:8080/"
        },
        "outputId": "b2013a10-2967-4c9a-ccfe-a1d443894f73"
      },
      "source": [
        "print(classification_report(y_test1, predict_y_scaled))\n",
        "print(metrics.accuracy_score(y_test1, predict_y_scaled))\n",
        "mean_squared_error(y_test1, predict_y_scaled)"
      ],
      "execution_count": null,
      "outputs": [
        {
          "output_type": "stream",
          "text": [
            "              precision    recall  f1-score   support\n",
            "\n",
            "           1       0.79      0.86      0.82        43\n",
            "           2       0.57      0.44      0.50        18\n",
            "\n",
            "    accuracy                           0.74        61\n",
            "   macro avg       0.68      0.65      0.66        61\n",
            "weighted avg       0.72      0.74      0.73        61\n",
            "\n",
            "0.7377049180327869\n"
          ],
          "name": "stdout"
        },
        {
          "output_type": "execute_result",
          "data": {
            "text/plain": [
              "0.26229508196721313"
            ]
          },
          "metadata": {
            "tags": []
          },
          "execution_count": 68
        }
      ]
    },
    {
      "cell_type": "code",
      "metadata": {
        "id": "ejK0Vd5w4MVW",
        "colab": {
          "base_uri": "https://localhost:8080/",
          "height": 296
        },
        "outputId": "3bf9d564-27aa-489c-b082-bf84f0d7d2f6"
      },
      "source": [
        "sns.scatterplot(x='year', y='nodes', hue='status', data=data1)"
      ],
      "execution_count": null,
      "outputs": [
        {
          "output_type": "execute_result",
          "data": {
            "text/plain": [
              "<matplotlib.axes._subplots.AxesSubplot at 0x7fad9dc4ad90>"
            ]
          },
          "metadata": {
            "tags": []
          },
          "execution_count": 69
        },
        {
          "output_type": "display_data",
          "data": {
            "image/png": "[encoded data removed]",
            "text/plain": [
              "<Figure size 432x288 with 1 Axes>"
            ]
          },
          "metadata": {
            "tags": [],
            "needs_background": "light"
          }
        }
      ]
    },
    {
      "cell_type": "code",
      "metadata": {
        "id": "dpKWHEl67TtG"
      },
      "source": [],
      "execution_count": null,
      "outputs": []
    },
    {
      "cell_type": "code",
      "metadata": {
        "id": "CD28dSUv7DL-",
        "colab": {
          "base_uri": "https://localhost:8080/",
          "height": 350
        },
        "outputId": "2fa95b8e-1319-4ee6-a386-c7b3370376bc"
      },
      "source": [
        "sns.countplot(data1['nodes'])"
      ],
      "execution_count": null,
      "outputs": [
        {
          "output_type": "stream",
          "text": [
            "/usr/local/lib/python3.7/dist-packages/seaborn/_decorators.py:43: FutureWarning: Pass the following variable as a keyword arg: x. From version 0.12, the only valid positional argument will be `data`, and passing other arguments without an explicit keyword will result in an error or misinterpretation.\n",
            "  FutureWarning\n"
          ],
          "name": "stderr"
        },
        {
          "output_type": "execute_result",
          "data": {
            "text/plain": [
              "<matplotlib.axes._subplots.AxesSubplot at 0x7fad9ed08350>"
            ]
          },
          "metadata": {
            "tags": []
          },
          "execution_count": 70
        },
        {
          "output_type": "display_data",
          "data": {
            "image/png": "[encoded data removed]",
            "text/plain": [
              "<Figure size 432x288 with 1 Axes>"
            ]
          },
          "metadata": {
            "tags": [],
            "needs_background": "light"
          }
        }
      ]
    },
    {
      "cell_type": "code",
      "metadata": {
        "id": "zHzXv_Iv7cWl",
        "colab": {
          "base_uri": "https://localhost:8080/"
        },
        "outputId": "a5307ce7-2681-411d-8630-5c453dc8dda3"
      },
      "source": [
        "start_time = time.time()\n",
        "from sklearn.ensemble import RandomForestClassifier\n",
        "clf = RandomForestClassifier(max_depth=2, random_state=0)\n",
        "clf.fit(x_train1, y_train1)\n",
        "print(\"time - {}\".format(time.time()-start_time))\n"
      ],
      "execution_count": null,
      "outputs": [
        {
          "output_type": "stream",
          "text": [
            "time - 0.31272435188293457\n"
          ],
          "name": "stdout"
        }
      ]
    },
    {
      "cell_type": "code",
      "metadata": {
        "id": "-iyRtl8NxIkJ",
        "colab": {
          "base_uri": "https://localhost:8080/",
          "height": 299
        },
        "outputId": "cbcd0417-c46a-4401-e480-df82f23f487a"
      },
      "source": [
        "predict_clf = clf.predict(x_test1)\n",
        "cm = confusion_matrix(predict_clf, y_test)\n",
        "print(sqrt(metrics.mean_squared_error(y_test1, predict_clf)))\n",
        "mean_squared_error(y_test1, predict_clf)\n",
        "rse = math.sqrt(0.295081967213114/(242))\n",
        "rse\n",
        "sns.heatmap(cm, annot=True)"
      ],
      "execution_count": null,
      "outputs": [
        {
          "output_type": "stream",
          "text": [
            "0.5432144762551112\n"
          ],
          "name": "stdout"
        },
        {
          "output_type": "execute_result",
          "data": {
            "text/plain": [
              "<matplotlib.axes._subplots.AxesSubplot at 0x7fad9c6ad690>"
            ]
          },
          "metadata": {
            "tags": []
          },
          "execution_count": 101
        },
        {
          "output_type": "display_data",
          "data": {
            "image/png": "[encoded data removed]",
            "text/plain": [
              "<Figure size 432x288 with 2 Axes>"
            ]
          },
          "metadata": {
            "tags": [],
            "needs_background": "light"
          }
        }
      ]
    },
    {
      "cell_type": "code",
      "metadata": {
        "id": "oETTwGf4xXtv",
        "colab": {
          "base_uri": "https://localhost:8080/"
        },
        "outputId": "f94935f9-8edf-4e1c-e6e5-3ec98cb58b88"
      },
      "source": [
        "cm = confusion_matrix(y_test1, predict_clf)\n",
        "start_time = time.time()\n",
        "clf.fit(x_train_scaler1, y_train1)\n",
        "predict_y_scaled2 = clf.predict(x_test_scaler1)\n",
        "print(\"time - {}\".format(time.time()-start_time))\n",
        "print(classification_report(y_test1, predict_y_scaled2))\n",
        "print(metrics.accuracy_score(y_test1, predict_y_scaled2))\n"
      ],
      "execution_count": null,
      "outputs": [
        {
          "output_type": "stream",
          "text": [
            "time - 0.18066763877868652\n",
            "              precision    recall  f1-score   support\n",
            "\n",
            "           1       0.70      1.00      0.83        43\n",
            "           2       0.00      0.00      0.00        18\n",
            "\n",
            "    accuracy                           0.70        61\n",
            "   macro avg       0.35      0.50      0.41        61\n",
            "weighted avg       0.50      0.70      0.58        61\n",
            "\n",
            "0.7049180327868853\n"
          ],
          "name": "stdout"
        },
        {
          "output_type": "stream",
          "text": [
            "/usr/local/lib/python3.7/dist-packages/sklearn/metrics/_classification.py:1272: UndefinedMetricWarning: Precision and F-score are ill-defined and being set to 0.0 in labels with no predicted samples. Use `zero_division` parameter to control this behavior.\n",
            "  _warn_prf(average, modifier, msg_start, len(result))\n"
          ],
          "name": "stderr"
        }
      ]
    },
    {
      "cell_type": "code",
      "metadata": {
        "id": "qVvXr97rxjMG",
        "colab": {
          "base_uri": "https://localhost:8080/",
          "height": 282
        },
        "outputId": "1186b9c5-335a-46fa-90b3-30798d6837d9"
      },
      "source": [
        "sns.heatmap(cm, annot=True)"
      ],
      "execution_count": null,
      "outputs": [
        {
          "output_type": "execute_result",
          "data": {
            "text/plain": [
              "<matplotlib.axes._subplots.AxesSubplot at 0x7fad9cc91210>"
            ]
          },
          "metadata": {
            "tags": []
          },
          "execution_count": 74
        },
        {
          "output_type": "display_data",
          "data": {
            "image/png": "[encoded data removed]",
            "text/plain": [
              "<Figure size 432x288 with 2 Axes>"
            ]
          },
          "metadata": {
            "tags": [],
            "needs_background": "light"
          }
        }
      ]
    },
    {
      "cell_type": "code",
      "metadata": {
        "id": "sVvu7cj2xoOX",
        "colab": {
          "base_uri": "https://localhost:8080/"
        },
        "outputId": "ab548916-cf20-4772-e5c0-a7547e252895"
      },
      "source": [
        "print(classification_report(y_test1, predict_clf))"
      ],
      "execution_count": null,
      "outputs": [
        {
          "output_type": "stream",
          "text": [
            "              precision    recall  f1-score   support\n",
            "\n",
            "           1       0.70      1.00      0.83        43\n",
            "           2       0.00      0.00      0.00        18\n",
            "\n",
            "    accuracy                           0.70        61\n",
            "   macro avg       0.35      0.50      0.41        61\n",
            "weighted avg       0.50      0.70      0.58        61\n",
            "\n"
          ],
          "name": "stdout"
        },
        {
          "output_type": "stream",
          "text": [
            "/usr/local/lib/python3.7/dist-packages/sklearn/metrics/_classification.py:1272: UndefinedMetricWarning: Precision and F-score are ill-defined and being set to 0.0 in labels with no predicted samples. Use `zero_division` parameter to control this behavior.\n",
            "  _warn_prf(average, modifier, msg_start, len(result))\n"
          ],
          "name": "stderr"
        }
      ]
    },
    {
      "cell_type": "code",
      "metadata": {
        "id": "mUvAGmeIyAwX",
        "colab": {
          "base_uri": "https://localhost:8080/"
        },
        "outputId": "40ae17db-5913-4442-9f4b-d84d9c94edaa"
      },
      "source": [
        "print(metrics.accuracy_score(y_test1, predict_clf))"
      ],
      "execution_count": null,
      "outputs": [
        {
          "output_type": "stream",
          "text": [
            "0.7049180327868853\n"
          ],
          "name": "stdout"
        }
      ]
    },
    {
      "cell_type": "code",
      "metadata": {
        "id": "yaHeq1eryKf-",
        "colab": {
          "base_uri": "https://localhost:8080/"
        },
        "outputId": "253ac901-84ac-4043-bf37-c2336d8c2db4"
      },
      "source": [
        "import time\n",
        "start_time = time.time()\n",
        "from sklearn.neural_network import MLPClassifier\n",
        "CLF = MLPClassifier(solver='lbfgs', alpha=1e-5,hidden_layer_sizes=(5, 2), random_state=1)\n",
        "CLF.fit(x_train1, y_train1)\n",
        "print(\"time - {}\".format(time.time()-start_time))\n"
      ],
      "execution_count": null,
      "outputs": [
        {
          "output_type": "stream",
          "text": [
            "time - 0.03582191467285156\n"
          ],
          "name": "stdout"
        }
      ]
    },
    {
      "cell_type": "code",
      "metadata": {
        "id": "Ad4TTeEXHxtp",
        "colab": {
          "base_uri": "https://localhost:8080/"
        },
        "outputId": "512143e8-efc9-46e8-c2bc-1bf18054375f"
      },
      "source": [
        "predit_ANN = CLF.predict(x_test1)\n",
        "rse = math.sqrt(0.245901639344262/(242))\n",
        "rse\n"
      ],
      "execution_count": null,
      "outputs": [
        {
          "output_type": "execute_result",
          "data": {
            "text/plain": [
              "0.031876676059921644"
            ]
          },
          "metadata": {
            "tags": []
          },
          "execution_count": 78
        }
      ]
    },
    {
      "cell_type": "code",
      "metadata": {
        "id": "3yAptkQIH8Xf",
        "colab": {
          "base_uri": "https://localhost:8080/"
        },
        "outputId": "4bb6ca3d-8077-46bf-f637-bb38ec451c36"
      },
      "source": [
        "cm = confusion_matrix(predit_ANN, y_test1)\n",
        "mean_squared_error(predit_ANN, y_test1)\n",
        "print(sqrt(metrics.mean_squared_error(predit_ANN, y_test1)))\n"
      ],
      "execution_count": null,
      "outputs": [
        {
          "output_type": "stream",
          "text": [
            "0.4958847036804647\n"
          ],
          "name": "stdout"
        }
      ]
    },
    {
      "cell_type": "code",
      "metadata": {
        "id": "ReTCHwzAIKYg",
        "colab": {
          "base_uri": "https://localhost:8080/",
          "height": 282
        },
        "outputId": "30696842-4606-4bf8-80df-6841687c3357"
      },
      "source": [
        "sns.heatmap(cm, annot=True)"
      ],
      "execution_count": null,
      "outputs": [
        {
          "output_type": "execute_result",
          "data": {
            "text/plain": [
              "<matplotlib.axes._subplots.AxesSubplot at 0x7fad9de1e3d0>"
            ]
          },
          "metadata": {
            "tags": []
          },
          "execution_count": 80
        },
        {
          "output_type": "display_data",
          "data": {
            "image/png": "[encoded data removed]",
            "text/plain": [
              "<Figure size 432x288 with 2 Axes>"
            ]
          },
          "metadata": {
            "tags": [],
            "needs_background": "light"
          }
        }
      ]
    },
    {
      "cell_type": "code",
      "metadata": {
        "id": "hL4N0oakIPZf",
        "colab": {
          "base_uri": "https://localhost:8080/"
        },
        "outputId": "65b36fe6-7a89-4778-c7e4-88c8775d1669"
      },
      "source": [
        "print(classification_report(predit_ANN, y_test1))"
      ],
      "execution_count": null,
      "outputs": [
        {
          "output_type": "stream",
          "text": [
            "              precision    recall  f1-score   support\n",
            "\n",
            "           1       0.98      0.75      0.85        56\n",
            "           2       0.22      0.80      0.35         5\n",
            "\n",
            "    accuracy                           0.75        61\n",
            "   macro avg       0.60      0.78      0.60        61\n",
            "weighted avg       0.91      0.75      0.81        61\n",
            "\n"
          ],
          "name": "stdout"
        }
      ]
    },
    {
      "cell_type": "code",
      "metadata": {
        "id": "Tqjl3hMuIXc3",
        "colab": {
          "base_uri": "https://localhost:8080/"
        },
        "outputId": "a5e44a40-a784-421e-f6b5-6db37b9496d1"
      },
      "source": [
        "print(metrics.accuracy_score(predit_ANN, y_test1))"
      ],
      "execution_count": null,
      "outputs": [
        {
          "output_type": "stream",
          "text": [
            "0.7540983606557377\n"
          ],
          "name": "stdout"
        }
      ]
    },
    {
      "cell_type": "code",
      "metadata": {
        "id": "CIc2YvAlLYuw"
      },
      "source": [],
      "execution_count": null,
      "outputs": []
    },
    {
      "cell_type": "code",
      "metadata": {
        "id": "mgtKCYetIeaC",
        "colab": {
          "base_uri": "https://localhost:8080/"
        },
        "outputId": "e81b53e7-8dac-4ecf-923f-08a1b7999279"
      },
      "source": [
        "acc_score = []\n",
        "range_list = range(5,30)\n",
        "for k in range_list:\n",
        "  CLF2 = MLPClassifier(solver='lbfgs', alpha=1e-5,hidden_layer_sizes=(5, k), random_state=1)\n",
        "  CLF2.fit(x_train1, y_train1)\n",
        "  prd = CLF2.predict(x_test1)\n",
        "  acc_score.append(metrics.accuracy_score(prd, y_test1))\n"
      ],
      "execution_count": null,
      "outputs": [
        {
          "output_type": "stream",
          "text": [
            "/usr/local/lib/python3.7/dist-packages/sklearn/neural_network/_multilayer_perceptron.py:470: ConvergenceWarning: lbfgs failed to converge (status=1):\n",
            "STOP: TOTAL NO. of ITERATIONS REACHED LIMIT.\n",
            "\n",
            "Increase the number of iterations (max_iter) or scale the data as shown in:\n",
            "    https://scikit-learn.org/stable/modules/preprocessing.html\n",
            "  self.n_iter_ = _check_optimize_result(\"lbfgs\", opt_res, self.max_iter)\n"
          ],
          "name": "stderr"
        }
      ]
    },
    {
      "cell_type": "code",
      "metadata": {
        "id": "qvE9RUD4Lm0Y",
        "colab": {
          "base_uri": "https://localhost:8080/"
        },
        "outputId": "2d5d41c4-36e0-4169-b793-753227033e59"
      },
      "source": [
        "acc_score"
      ],
      "execution_count": null,
      "outputs": [
        {
          "output_type": "execute_result",
          "data": {
            "text/plain": [
              "[0.7049180327868853,\n",
              " 0.7704918032786885,\n",
              " 0.7049180327868853,\n",
              " 0.7049180327868853,\n",
              " 0.7049180327868853,\n",
              " 0.7049180327868853,\n",
              " 0.7704918032786885,\n",
              " 0.7049180327868853,\n",
              " 0.7049180327868853,\n",
              " 0.7049180327868853,\n",
              " 0.7049180327868853,\n",
              " 0.7049180327868853,\n",
              " 0.7049180327868853,\n",
              " 0.7213114754098361,\n",
              " 0.7704918032786885,\n",
              " 0.7049180327868853,\n",
              " 0.7049180327868853,\n",
              " 0.7049180327868853,\n",
              " 0.7540983606557377,\n",
              " 0.7049180327868853,\n",
              " 0.7704918032786885,\n",
              " 0.7704918032786885,\n",
              " 0.7049180327868853,\n",
              " 0.7704918032786885,\n",
              " 0.7049180327868853]"
            ]
          },
          "metadata": {
            "tags": []
          },
          "execution_count": 84
        }
      ]
    },
    {
      "cell_type": "code",
      "metadata": {
        "id": "WNRwbcCeLztI",
        "colab": {
          "base_uri": "https://localhost:8080/",
          "height": 296
        },
        "outputId": "ab65ec2a-c4c1-468b-a544-1bc60d664791"
      },
      "source": [
        "plt.plot(range_list,acc_score)\n",
        "plt.xlabel('k')\n",
        "plt.ylabel('acc')"
      ],
      "execution_count": null,
      "outputs": [
        {
          "output_type": "execute_result",
          "data": {
            "text/plain": [
              "Text(0, 0.5, 'acc')"
            ]
          },
          "metadata": {
            "tags": []
          },
          "execution_count": 85
        },
        {
          "output_type": "display_data",
          "data": {
            "image/png": "[encoded data removed]",
            "text/plain": [
              "<Figure size 432x288 with 1 Axes>"
            ]
          },
          "metadata": {
            "tags": [],
            "needs_background": "light"
          }
        }
      ]
    },
    {
      "cell_type": "code",
      "metadata": {
        "id": "Y0C-9DUTMSTB",
        "colab": {
          "base_uri": "https://localhost:8080/"
        },
        "outputId": "bdaaae56-4d83-41cd-9300-e9426b76d06d"
      },
      "source": [
        "max(acc_score)"
      ],
      "execution_count": null,
      "outputs": [
        {
          "output_type": "execute_result",
          "data": {
            "text/plain": [
              "0.7704918032786885"
            ]
          },
          "metadata": {
            "tags": []
          },
          "execution_count": 86
        }
      ]
    },
    {
      "cell_type": "code",
      "metadata": {
        "id": "6rc1CdKKMrqf",
        "colab": {
          "base_uri": "https://localhost:8080/"
        },
        "outputId": "edcefcc8-4906-43e1-f266-7b6a4f41c3b0"
      },
      "source": [
        "start_time = time.time()\n",
        "CLF2.fit(x_train_scaler, y_train)\n",
        "yy_preidct=CLF2.predict(x_test_scaler1)\n",
        "print(\"time - {}\".format(time.time()-start_time))\n"
      ],
      "execution_count": null,
      "outputs": [
        {
          "output_type": "stream",
          "text": [
            "time - 0.19336724281311035\n"
          ],
          "name": "stdout"
        },
        {
          "output_type": "stream",
          "text": [
            "/usr/local/lib/python3.7/dist-packages/sklearn/neural_network/_multilayer_perceptron.py:470: ConvergenceWarning: lbfgs failed to converge (status=1):\n",
            "STOP: TOTAL NO. of ITERATIONS REACHED LIMIT.\n",
            "\n",
            "Increase the number of iterations (max_iter) or scale the data as shown in:\n",
            "    https://scikit-learn.org/stable/modules/preprocessing.html\n",
            "  self.n_iter_ = _check_optimize_result(\"lbfgs\", opt_res, self.max_iter)\n"
          ],
          "name": "stderr"
        }
      ]
    },
    {
      "cell_type": "code",
      "metadata": {
        "id": "bpZyxA6XJEQs",
        "colab": {
          "base_uri": "https://localhost:8080/"
        },
        "outputId": "39aa4635-ad99-4c2f-d22e-68e85526ce41"
      },
      "source": [
        "y_predict_KNN_scaled2 = CLF2.predict(x_test_scaler)\n",
        "print(metrics.accuracy_score(yy_preidct, y_test1))\n",
        "mean_squared_error(yy_preidct, y_test1)\n",
        "print(sqrt(metrics.mean_squared_error(y_test1, predict_clf)))\n"
      ],
      "execution_count": null,
      "outputs": [
        {
          "output_type": "stream",
          "text": [
            "0.7049180327868853\n",
            "0.5432144762551112\n"
          ],
          "name": "stdout"
        }
      ]
    },
    {
      "cell_type": "code",
      "metadata": {
        "id": "Y9VyFvPCJWLC"
      },
      "source": [
        "CM = confusion_matrix(y_predict_KNN_scaled2, y_test1)"
      ],
      "execution_count": null,
      "outputs": []
    },
    {
      "cell_type": "code",
      "metadata": {
        "id": "SdopGf5PJ11b",
        "colab": {
          "base_uri": "https://localhost:8080/",
          "height": 286
        },
        "outputId": "a2d24ace-ed3e-4d1d-cc63-a832abea018f"
      },
      "source": [
        "sns.heatmap(CM, annot=True)"
      ],
      "execution_count": null,
      "outputs": [
        {
          "output_type": "execute_result",
          "data": {
            "text/plain": [
              "<matplotlib.axes._subplots.AxesSubplot at 0x7fad9cae2290>"
            ]
          },
          "metadata": {
            "tags": []
          },
          "execution_count": 90
        },
        {
          "output_type": "display_data",
          "data": {
            "image/png": "[encoded data removed]",
            "text/plain": [
              "<Figure size 432x288 with 2 Axes>"
            ]
          },
          "metadata": {
            "tags": [],
            "needs_background": "light"
          }
        }
      ]
    },
    {
      "cell_type": "code",
      "metadata": {
        "id": "SPAaGFn9J7Qb",
        "colab": {
          "base_uri": "https://localhost:8080/"
        },
        "outputId": "24ce1ffb-2a76-4e6a-e941-b01b20d89de9"
      },
      "source": [
        "print(classification_report(y_predict_KNN_scaled2, y_test1))"
      ],
      "execution_count": null,
      "outputs": [
        {
          "output_type": "stream",
          "text": [
            "              precision    recall  f1-score   support\n",
            "\n",
            "           1       0.81      0.78      0.80        45\n",
            "           2       0.44      0.50      0.47        16\n",
            "\n",
            "    accuracy                           0.70        61\n",
            "   macro avg       0.63      0.64      0.63        61\n",
            "weighted avg       0.72      0.70      0.71        61\n",
            "\n"
          ],
          "name": "stdout"
        }
      ]
    },
    {
      "cell_type": "code",
      "metadata": {
        "id": "0AqOOCASKDpy"
      },
      "source": [
        "model_list = ['SVC', 'SVC_scaled', 'KNN', 'KNN_scaled', 'K_optimal', 'GaussianNB', 'random_forest', 'MLPClassifier']\n",
        "accuracy_models_list = [0.7213114754098361, 0.7049180327868853, 0.7704918032786885, 0.7704918032786885, 0.7868852459016393, 0.7377049180327869, 0.7049180327868853, 0.7540983606557377]"
      ],
      "execution_count": null,
      "outputs": []
    },
    {
      "cell_type": "code",
      "metadata": {
        "id": "4n47JOfrI8UD",
        "colab": {
          "base_uri": "https://localhost:8080/",
          "height": 345
        },
        "outputId": "0cd721b1-8aad-4a39-8139-be8aa3945f5a"
      },
      "source": [
        "plt.plot(model_list, accuracy_models_list)\n",
        "plt.xlabel('model')\n",
        "plt.ylabel('accuracy')\n",
        "plt.xticks(rotation=-45)\n"
      ],
      "execution_count": null,
      "outputs": [
        {
          "output_type": "execute_result",
          "data": {
            "text/plain": [
              "([0, 1, 2, 3, 4, 5, 6, 7], <a list of 8 Text major ticklabel objects>)"
            ]
          },
          "metadata": {
            "tags": []
          },
          "execution_count": 93
        },
        {
          "output_type": "display_data",
          "data": {
            "image/png": "[encoded data removed]",
            "text/plain": [
              "<Figure size 432x288 with 1 Axes>"
            ]
          },
          "metadata": {
            "tags": [],
            "needs_background": "light"
          }
        }
      ]
    },
    {
      "cell_type": "code",
      "metadata": {
        "id": "PXq1YLkWJS57"
      },
      "source": [
        "import numpy as np\n",
        "x = np.arange(len(model_list))"
      ],
      "execution_count": null,
      "outputs": []
    },
    {
      "cell_type": "code",
      "metadata": {
        "id": "MWnil4V7XssJ"
      },
      "source": [
        "dict = {'SVC':0.7213114754098361, 'SVC_scaled':0.7049180327868853, 'KNN':0.7704918032786885, 'KNN_scaled':0.7704918032786885, 'K_optimal':0.7868852459016393, 'GaussianNB':0.7377049180327869, 'random_forest':0.7049180327868853, 'MLPClassifier':0.7540983606557377}"
      ],
      "execution_count": null,
      "outputs": []
    },
    {
      "cell_type": "code",
      "metadata": {
        "id": "FzeV_llA0x7o"
      },
      "source": [
        "pd_df = pd.DataFrame(list(dict.items()))"
      ],
      "execution_count": null,
      "outputs": []
    },
    {
      "cell_type": "code",
      "metadata": {
        "id": "XmGWrNnb1SuG"
      },
      "source": [
        "pd_df.columns=['model_list', 'accuracy_models_list']"
      ],
      "execution_count": null,
      "outputs": []
    },
    {
      "cell_type": "code",
      "metadata": {
        "id": "qih5hInI2H4t",
        "colab": {
          "base_uri": "https://localhost:8080/",
          "height": 51
        },
        "outputId": "2b3d9442-a960-4b43-c76e-22cbf8d3fb4a"
      },
      "source": [
        "plt.figure(figsize=(90,8))\n"
      ],
      "execution_count": null,
      "outputs": [
        {
          "output_type": "execute_result",
          "data": {
            "text/plain": [
              "<Figure size 6480x576 with 0 Axes>"
            ]
          },
          "metadata": {
            "tags": []
          },
          "execution_count": 98
        },
        {
          "output_type": "display_data",
          "data": {
            "text/plain": [
              "<Figure size 6480x576 with 0 Axes>"
            ]
          },
          "metadata": {
            "tags": []
          }
        }
      ]
    },
    {
      "cell_type": "code",
      "metadata": {
        "id": "CvLxr4Uq2v-H",
        "colab": {
          "base_uri": "https://localhost:8080/",
          "height": 382
        },
        "outputId": "fbf13f29-dd74-4fba-db66-30e160c1ec70"
      },
      "source": [
        "ax = sns.barplot(pd_df.index, pd_df.accuracy_models_list)\n",
        "ax.set(xlabel=\"models\", ylabel='accuracy')\n",
        "plt.xticks(ticks=[0, 1, 2, 3, 4, 5, 6, 7], labels=model_list)\n",
        "plt.xticks(rotation=-45)\n",
        "plt.show()"
      ],
      "execution_count": null,
      "outputs": [
        {
          "output_type": "stream",
          "text": [
            "/usr/local/lib/python3.7/dist-packages/seaborn/_decorators.py:43: FutureWarning: Pass the following variables as keyword args: x, y. From version 0.12, the only valid positional argument will be `data`, and passing other arguments without an explicit keyword will result in an error or misinterpretation.\n",
            "  FutureWarning\n"
          ],
          "name": "stderr"
        },
        {
          "output_type": "display_data",
          "data": {
            "image/png": "[encoded data removed]",
            "text/plain": [
              "<Figure size 432x288 with 1 Axes>"
            ]
          },
          "metadata": {
            "tags": [],
            "needs_background": "light"
          }
        }
      ]
    },
    {
      "cell_type": "code",
      "metadata": {
        "id": "Nkj06zA37jOX",
        "colab": {
          "base_uri": "https://localhost:8080/",
          "height": 129
        },
        "outputId": "c85d6d6f-8d2a-4a93-8d3d-ad8180238426"
      },
      "source": [
        "Time rfc = 0.16573548316955566\n",
        "gaussian scaled = 0.004734516143798828, acc = 0.7049180327868853\n",
        "rfc scaled = 0.17505574226379395, 0.7049180327868853\n",
        "gaussian = 0.0029616355895996094\n",
        "scaled knn = 0.010120391845703125\n",
        "knn = 0.0017919540405273438\n",
        "scaled svc = 0.01349496841430664\n",
        "svc = 0.007276058197021484\n",
        "mlp = 0.024126052856445312\n",
        "mlp scaled = 0.16303730010986328"
      ],
      "execution_count": null,
      "outputs": [
        {
          "output_type": "error",
          "ename": "SyntaxError",
          "evalue": "ignored",
          "traceback": [
            "\u001b[0;36m  File \u001b[0;32m\"<ipython-input-100-4e3110fed622>\"\u001b[0;36m, line \u001b[0;32m1\u001b[0m\n\u001b[0;31m    Time rfc = 0.16573548316955566\u001b[0m\n\u001b[0m           ^\u001b[0m\n\u001b[0;31mSyntaxError\u001b[0m\u001b[0;31m:\u001b[0m invalid syntax\n"
          ]
        }
      ]
    },
    {
      "cell_type": "code",
      "metadata": {
        "id": "LMO12OiL9ciU"
      },
      "source": [
        "from sklearn.metrics import plot_roc_curve\n",
        "\n",
        "classifiers = [svc_model, knn, gnb, clf, CLF]\n",
        "ax = plt.gca()\n",
        "for i in classifiers:\n",
        "    plot_roc_curve(i, x_test, y_test, ax=ax)\n",
        "    plt.xlabel(\"TP(Sensitivity)\", fontsize=15)\n",
        "    plt.ylabel(\"FP(Specifity)\", fontsize=15)\n",
        "\n"
      ],
      "execution_count": null,
      "outputs": []
    },
    {
      "cell_type": "code",
      "metadata": {
        "id": "aaiHdWUqRYFM"
      },
      "source": [],
      "execution_count": null,
      "outputs": []
    }
  ]
}